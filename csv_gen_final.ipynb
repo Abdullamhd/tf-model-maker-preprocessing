{
 "cells": [
  {
   "cell_type": "code",
   "execution_count": 1,
   "metadata": {},
   "outputs": [],
   "source": [
    "import pandas as pd\n",
    "import numpy as np \n",
    "import os"
   ]
  },
  {
   "cell_type": "code",
   "execution_count": 2,
   "metadata": {},
   "outputs": [],
   "source": [
    "nan_value = 'NaN'\n",
    "\n",
    "def list_files_from_folder(relative_path):\n",
    "    \n",
    "    return os.listdir(relative_path)\n",
    "\n",
    "### For reading lines \n",
    "def read_lines_from_file(file_name):\n",
    "      with open(file_name) as f:\n",
    "       lines = f.readlines()\n",
    "\n",
    "       return lines \n",
    "\n",
    "### Lines to Dict \n",
    "def lines_to_dict(lines,file_name,text_file_name):\n",
    "\n",
    "    csv_dict = {\n",
    "    'folder_name' : [],\n",
    "    'image_url' : [],\n",
    "    'class_name' : [],\n",
    "    'x1' : [],\n",
    "    'y1' :[],\n",
    "    '5': [],\n",
    "    '6' : [],\n",
    "    'x2' : [],\n",
    "    'y2' : [],\n",
    "    '9':[],\n",
    "    '10':[] }\n",
    "\n",
    "    for line in lines : \n",
    "        splited = line.split(' ')\n",
    "        class_index = splited.pop(0)\n",
    "        if class_index == '5' :\n",
    "            print(text_file_name)\n",
    "            print(line)\n",
    "        csv_dict['image_url'].insert(len(csv_dict['image_url']),file_name)\n",
    "        csv_dict['folder_name'].insert(len(csv_dict['folder_name']),'TRAIN')\n",
    "        csv_dict['x1'].insert(len(csv_dict['x1']),splited[0])\n",
    "        csv_dict['y1'].insert(len(csv_dict['y1']),splited[2])\n",
    "        csv_dict['x2'].insert(len(csv_dict['x2']),splited[1])\n",
    "        csv_dict['y2'].insert(len(csv_dict['y2']),splited[3])\n",
    "        csv_dict['5'].insert(len(csv_dict['5']),nan_value)\n",
    "        csv_dict['6'].insert(len(csv_dict['6']),nan_value)\n",
    "        csv_dict['9'].insert(len(csv_dict['9']),nan_value)\n",
    "        csv_dict['10'].insert(len(csv_dict['10']),nan_value)\n",
    "        csv_dict['class_name'].insert(len(csv_dict['class_name']),class_index)\n",
    "    \n",
    "    return csv_dict\n"
   ]
  },
  {
   "cell_type": "code",
   "execution_count": 3,
   "metadata": {},
   "outputs": [],
   "source": [
    "files = list_files_from_folder('label')\n",
    "images = list_files_from_folder('distortion_new')\n",
    "files = ['label/' + file for file in files]\n",
    "images = ['distortion_new/' + image for image in images]"
   ]
  },
  {
   "cell_type": "code",
   "execution_count": 4,
   "metadata": {},
   "outputs": [],
   "source": [
    "dicts = []\n",
    "\n",
    "for idx, file_name in enumerate(files):\n",
    "   lines =  read_lines_from_file(file_name)\n",
    "   single_dict = lines_to_dict(lines,images[idx],file_name)\n",
    "   dicts.append(single_dict)"
   ]
  },
  {
   "cell_type": "code",
   "execution_count": 5,
   "metadata": {},
   "outputs": [],
   "source": [
    "\n",
    "\n",
    "dfs = []\n",
    "\n",
    "for d in dicts:\n",
    "   new_d =  pd.DataFrame.from_dict(d)\n",
    "   dfs.append(new_d)"
   ]
  },
  {
   "cell_type": "code",
   "execution_count": 6,
   "metadata": {},
   "outputs": [],
   "source": [
    "df = pd.concat(dfs)"
   ]
  },
  {
   "cell_type": "code",
   "execution_count": 7,
   "metadata": {},
   "outputs": [],
   "source": [
    "df.to_csv('annotation.csv')"
   ]
  },
  {
   "cell_type": "code",
   "execution_count": 8,
   "metadata": {},
   "outputs": [
    {
     "data": {
      "text/plain": [
       "True    True\n",
       "Name: image_url, dtype: bool"
      ]
     },
     "execution_count": 8,
     "metadata": {},
     "output_type": "execute_result"
    }
   ],
   "source": [
    "csv = pd.read_csv('annotation.csv')\n",
    "csv.image_url.apply(os.path.exists).value_counts() == len(csv) # all paths is valid *_* \n"
   ]
  },
  {
   "cell_type": "code",
   "execution_count": null,
   "metadata": {},
   "outputs": [],
   "source": []
  }
 ],
 "metadata": {
  "interpreter": {
   "hash": "ec7b780c4e0938ffe1c50508eb9cf31911ab3c6d4fec4c1220ca8869b23d3816"
  },
  "kernelspec": {
   "display_name": "Python 3.6.13 64-bit ('model-makker': conda)",
   "name": "python3"
  },
  "language_info": {
   "codemirror_mode": {
    "name": "ipython",
    "version": 3
   },
   "file_extension": ".py",
   "mimetype": "text/x-python",
   "name": "python",
   "nbconvert_exporter": "python",
   "pygments_lexer": "ipython3",
   "version": "3.6.13"
  },
  "orig_nbformat": 4
 },
 "nbformat": 4,
 "nbformat_minor": 2
}
