{
 "cells": [
  {
   "cell_type": "markdown",
   "metadata": {},
   "source": [
    "# Split the Data \n",
    "#### Splitting the date as : \n",
    "- 60% Train set \n",
    "- 20% Validation set \n",
    "- 20% Test Set "
   ]
  },
  {
   "cell_type": "code",
   "execution_count": 1,
   "metadata": {},
   "outputs": [],
   "source": [
    "import pandas as pd \n",
    "\n",
    "\n"
   ]
  },
  {
   "cell_type": "code",
   "execution_count": 2,
   "metadata": {},
   "outputs": [],
   "source": [
    "def remove_unamed(dfs):\n",
    "    removed = []\n",
    "    for df in dfs:\n",
    "        removed.append(df.loc[:, ~df.columns.str.contains('^Unnamed')])\n",
    "        \n",
    "\n",
    "\n",
    "fallen_Trees = 'fallen_Trees'\n",
    "uncollected_waste = 'uncollected_waste'\n",
    "\n",
    "def map_distortion(value):\n",
    "    \n",
    "    if value == 0:\n",
    "        return 'allocated_waste'\n",
    "    \n",
    "    return 'fallen_trees'\n",
    "    \n"
   ]
  },
  {
   "cell_type": "code",
   "execution_count": 3,
   "metadata": {},
   "outputs": [
    {
     "data": {
      "text/plain": [
       "Index(['Unnamed: 0', 'folder_name', 'image_url', 'class_name', 'x1', 'y1', '5',\n",
       "       '6', 'x2', 'y2', '9', '10'],\n",
       "      dtype='object')"
      ]
     },
     "execution_count": 3,
     "metadata": {},
     "output_type": "execute_result"
    }
   ],
   "source": [
    "df = pd.read_csv('annotation.csv')\n",
    "\n",
    "df.columns"
   ]
  },
  {
   "cell_type": "code",
   "execution_count": 4,
   "metadata": {},
   "outputs": [
    {
     "data": {
      "text/plain": [
       "0    533\n",
       "1    258\n",
       "Name: class_name, dtype: int64"
      ]
     },
     "execution_count": 4,
     "metadata": {},
     "output_type": "execute_result"
    }
   ],
   "source": [
    "df.class_name.value_counts()"
   ]
  },
  {
   "cell_type": "code",
   "execution_count": 5,
   "metadata": {},
   "outputs": [
    {
     "data": {
      "text/html": [
       "<div>\n",
       "<style scoped>\n",
       "    .dataframe tbody tr th:only-of-type {\n",
       "        vertical-align: middle;\n",
       "    }\n",
       "\n",
       "    .dataframe tbody tr th {\n",
       "        vertical-align: top;\n",
       "    }\n",
       "\n",
       "    .dataframe thead th {\n",
       "        text-align: right;\n",
       "    }\n",
       "</style>\n",
       "<table border=\"1\" class=\"dataframe\">\n",
       "  <thead>\n",
       "    <tr style=\"text-align: right;\">\n",
       "      <th></th>\n",
       "      <th>Unnamed: 0</th>\n",
       "      <th>folder_name</th>\n",
       "      <th>image_url</th>\n",
       "      <th>class_name</th>\n",
       "      <th>x1</th>\n",
       "      <th>y1</th>\n",
       "      <th>5</th>\n",
       "      <th>6</th>\n",
       "      <th>x2</th>\n",
       "      <th>y2</th>\n",
       "      <th>9</th>\n",
       "      <th>10</th>\n",
       "    </tr>\n",
       "  </thead>\n",
       "  <tbody>\n",
       "  </tbody>\n",
       "</table>\n",
       "</div>"
      ],
      "text/plain": [
       "Empty DataFrame\n",
       "Columns: [Unnamed: 0, folder_name, image_url, class_name, x1, y1, 5, 6, x2, y2, 9, 10]\n",
       "Index: []"
      ]
     },
     "execution_count": 5,
     "metadata": {},
     "output_type": "execute_result"
    }
   ],
   "source": [
    "df.query('class_name == \"fallen_Trees\"')"
   ]
  },
  {
   "cell_type": "code",
   "execution_count": 6,
   "metadata": {},
   "outputs": [],
   "source": [
    "df.class_name = df.class_name.apply(lambda x : uncollected_waste if x == 0 else fallen_Trees)\n"
   ]
  },
  {
   "cell_type": "code",
   "execution_count": 7,
   "metadata": {},
   "outputs": [
    {
     "data": {
      "text/plain": [
       "array(['uncollected_waste', 'fallen_Trees'], dtype=object)"
      ]
     },
     "execution_count": 7,
     "metadata": {},
     "output_type": "execute_result"
    }
   ],
   "source": [
    "df.class_name.unique()"
   ]
  },
  {
   "cell_type": "code",
   "execution_count": 8,
   "metadata": {},
   "outputs": [],
   "source": [
    "# df.query('class_name == 0')"
   ]
  },
  {
   "cell_type": "code",
   "execution_count": 9,
   "metadata": {},
   "outputs": [
    {
     "data": {
      "text/plain": [
       "(791, 12)"
      ]
     },
     "execution_count": 9,
     "metadata": {},
     "output_type": "execute_result"
    }
   ],
   "source": [
    "df.shape"
   ]
  },
  {
   "cell_type": "code",
   "execution_count": 10,
   "metadata": {},
   "outputs": [
    {
     "data": {
      "text/plain": [
       "(158, 11)"
      ]
     },
     "execution_count": 10,
     "metadata": {},
     "output_type": "execute_result"
    }
   ],
   "source": [
    "val_set = df.sample(frac=0.2,random_state=1337)\n",
    "val_set.folder_name = 'VALIDATE'\n",
    "df.drop(val_set.index,inplace=True)\n",
    "val_set = val_set.loc[:, ~val_set.columns.str.contains('^Unnamed')]\n",
    "val_set.shape\n",
    "val_set.head()\n",
    "val_set.shape"
   ]
  },
  {
   "cell_type": "code",
   "execution_count": 11,
   "metadata": {},
   "outputs": [
    {
     "data": {
      "text/plain": [
       "(127, 11)"
      ]
     },
     "execution_count": 11,
     "metadata": {},
     "output_type": "execute_result"
    }
   ],
   "source": [
    "test_set = df.sample(frac=0.2,random_state=1337)\n",
    "test_set.folder_name = 'TEST'\n",
    "test_set = test_set.loc[:, ~test_set.columns.str.contains('^Unnamed')]\n",
    "df.drop(test_set.index,inplace=True)\n",
    "test_set.shape"
   ]
  },
  {
   "cell_type": "code",
   "execution_count": 12,
   "metadata": {},
   "outputs": [
    {
     "data": {
      "text/plain": [
       "(506, 11)"
      ]
     },
     "execution_count": 12,
     "metadata": {},
     "output_type": "execute_result"
    }
   ],
   "source": [
    "train_set = df\n",
    "train_set.folder_name = 'TRAIN'\n",
    "train_set = train_set.loc[:, ~train_set.columns.str.contains('^Unnamed')]\n",
    "train_set.shape\n"
   ]
  },
  {
   "cell_type": "code",
   "execution_count": 13,
   "metadata": {},
   "outputs": [],
   "source": [
    "df = pd.concat([test_set,val_set,train_set])"
   ]
  },
  {
   "cell_type": "code",
   "execution_count": 14,
   "metadata": {},
   "outputs": [
    {
     "data": {
      "text/plain": [
       "array(['TEST', 'VALIDATE', 'TRAIN'], dtype=object)"
      ]
     },
     "execution_count": 14,
     "metadata": {},
     "output_type": "execute_result"
    }
   ],
   "source": [
    "df.folder_name.unique()"
   ]
  },
  {
   "cell_type": "code",
   "execution_count": null,
   "metadata": {},
   "outputs": [],
   "source": []
  },
  {
   "cell_type": "code",
   "execution_count": null,
   "metadata": {},
   "outputs": [],
   "source": []
  },
  {
   "cell_type": "code",
   "execution_count": 15,
   "metadata": {},
   "outputs": [
    {
     "data": {
      "text/html": [
       "<div>\n",
       "<style scoped>\n",
       "    .dataframe tbody tr th:only-of-type {\n",
       "        vertical-align: middle;\n",
       "    }\n",
       "\n",
       "    .dataframe tbody tr th {\n",
       "        vertical-align: top;\n",
       "    }\n",
       "\n",
       "    .dataframe thead th {\n",
       "        text-align: right;\n",
       "    }\n",
       "</style>\n",
       "<table border=\"1\" class=\"dataframe\">\n",
       "  <thead>\n",
       "    <tr style=\"text-align: right;\">\n",
       "      <th></th>\n",
       "      <th>folder_name</th>\n",
       "      <th>image_url</th>\n",
       "      <th>class_name</th>\n",
       "      <th>x1</th>\n",
       "      <th>y1</th>\n",
       "      <th>5</th>\n",
       "      <th>6</th>\n",
       "      <th>x2</th>\n",
       "      <th>y2</th>\n",
       "      <th>9</th>\n",
       "      <th>10</th>\n",
       "    </tr>\n",
       "  </thead>\n",
       "  <tbody>\n",
       "    <tr>\n",
       "      <th>260</th>\n",
       "      <td>TEST</td>\n",
       "      <td>distortion_new/20210905_170449.jpg</td>\n",
       "      <td>uncollected_waste</td>\n",
       "      <td>0.615722</td>\n",
       "      <td>0.071729</td>\n",
       "      <td>NaN</td>\n",
       "      <td>NaN</td>\n",
       "      <td>0.444925</td>\n",
       "      <td>0.017638</td>\n",
       "      <td>NaN</td>\n",
       "      <td>NaN</td>\n",
       "    </tr>\n",
       "    <tr>\n",
       "      <th>258</th>\n",
       "      <td>TEST</td>\n",
       "      <td>distortion_new/20210905_170705.jpg</td>\n",
       "      <td>uncollected_waste</td>\n",
       "      <td>0.697706</td>\n",
       "      <td>0.142602</td>\n",
       "      <td>NaN</td>\n",
       "      <td>NaN</td>\n",
       "      <td>0.492037</td>\n",
       "      <td>0.038944</td>\n",
       "      <td>NaN</td>\n",
       "      <td>NaN</td>\n",
       "    </tr>\n",
       "    <tr>\n",
       "      <th>242</th>\n",
       "      <td>TEST</td>\n",
       "      <td>distortion_new/20210905_165543.jpg</td>\n",
       "      <td>fallen_Trees</td>\n",
       "      <td>0.413043</td>\n",
       "      <td>0.310315</td>\n",
       "      <td>NaN</td>\n",
       "      <td>NaN</td>\n",
       "      <td>0.431586</td>\n",
       "      <td>0.170077</td>\n",
       "      <td>NaN</td>\n",
       "      <td>NaN</td>\n",
       "    </tr>\n",
       "    <tr>\n",
       "      <th>657</th>\n",
       "      <td>TEST</td>\n",
       "      <td>distortion_new/20210905_165609.jpg</td>\n",
       "      <td>uncollected_waste</td>\n",
       "      <td>0.048167</td>\n",
       "      <td>0.078431</td>\n",
       "      <td>NaN</td>\n",
       "      <td>NaN</td>\n",
       "      <td>0.445652</td>\n",
       "      <td>0.031969</td>\n",
       "      <td>NaN</td>\n",
       "      <td>NaN</td>\n",
       "    </tr>\n",
       "    <tr>\n",
       "      <th>143</th>\n",
       "      <td>TEST</td>\n",
       "      <td>distortion_new/20210905_170343.jpg</td>\n",
       "      <td>uncollected_waste</td>\n",
       "      <td>0.767690</td>\n",
       "      <td>0.170503</td>\n",
       "      <td>NaN</td>\n",
       "      <td>NaN</td>\n",
       "      <td>0.519821</td>\n",
       "      <td>0.101023</td>\n",
       "      <td>NaN</td>\n",
       "      <td>NaN</td>\n",
       "    </tr>\n",
       "    <tr>\n",
       "      <th>...</th>\n",
       "      <td>...</td>\n",
       "      <td>...</td>\n",
       "      <td>...</td>\n",
       "      <td>...</td>\n",
       "      <td>...</td>\n",
       "      <td>...</td>\n",
       "      <td>...</td>\n",
       "      <td>...</td>\n",
       "      <td>...</td>\n",
       "      <td>...</td>\n",
       "      <td>...</td>\n",
       "    </tr>\n",
       "    <tr>\n",
       "      <th>783</th>\n",
       "      <td>TRAIN</td>\n",
       "      <td>distortion_new/20210905_170733.jpg</td>\n",
       "      <td>fallen_Trees</td>\n",
       "      <td>0.592072</td>\n",
       "      <td>0.129582</td>\n",
       "      <td>NaN</td>\n",
       "      <td>NaN</td>\n",
       "      <td>0.315217</td>\n",
       "      <td>0.095908</td>\n",
       "      <td>NaN</td>\n",
       "      <td>NaN</td>\n",
       "    </tr>\n",
       "    <tr>\n",
       "      <th>784</th>\n",
       "      <td>TRAIN</td>\n",
       "      <td>distortion_new/20210905_170733.jpg</td>\n",
       "      <td>fallen_Trees</td>\n",
       "      <td>0.816496</td>\n",
       "      <td>0.367008</td>\n",
       "      <td>NaN</td>\n",
       "      <td>NaN</td>\n",
       "      <td>0.421355</td>\n",
       "      <td>0.223785</td>\n",
       "      <td>NaN</td>\n",
       "      <td>NaN</td>\n",
       "    </tr>\n",
       "    <tr>\n",
       "      <th>786</th>\n",
       "      <td>TRAIN</td>\n",
       "      <td>distortion_new/20210905_165551.jpg</td>\n",
       "      <td>fallen_Trees</td>\n",
       "      <td>0.143436</td>\n",
       "      <td>0.286871</td>\n",
       "      <td>NaN</td>\n",
       "      <td>NaN</td>\n",
       "      <td>0.402813</td>\n",
       "      <td>0.212276</td>\n",
       "      <td>NaN</td>\n",
       "      <td>NaN</td>\n",
       "    </tr>\n",
       "    <tr>\n",
       "      <th>787</th>\n",
       "      <td>TRAIN</td>\n",
       "      <td>distortion_new/20210905_165551.jpg</td>\n",
       "      <td>fallen_Trees</td>\n",
       "      <td>0.408781</td>\n",
       "      <td>0.537084</td>\n",
       "      <td>NaN</td>\n",
       "      <td>NaN</td>\n",
       "      <td>0.512788</td>\n",
       "      <td>0.340153</td>\n",
       "      <td>NaN</td>\n",
       "      <td>NaN</td>\n",
       "    </tr>\n",
       "    <tr>\n",
       "      <th>788</th>\n",
       "      <td>TRAIN</td>\n",
       "      <td>distortion_new/20210905_165551.jpg</td>\n",
       "      <td>fallen_Trees</td>\n",
       "      <td>0.901748</td>\n",
       "      <td>0.196504</td>\n",
       "      <td>NaN</td>\n",
       "      <td>NaN</td>\n",
       "      <td>0.512148</td>\n",
       "      <td>0.154731</td>\n",
       "      <td>NaN</td>\n",
       "      <td>NaN</td>\n",
       "    </tr>\n",
       "  </tbody>\n",
       "</table>\n",
       "<p>791 rows × 11 columns</p>\n",
       "</div>"
      ],
      "text/plain": [
       "    folder_name                           image_url         class_name  \\\n",
       "260        TEST  distortion_new/20210905_170449.jpg  uncollected_waste   \n",
       "258        TEST  distortion_new/20210905_170705.jpg  uncollected_waste   \n",
       "242        TEST  distortion_new/20210905_165543.jpg       fallen_Trees   \n",
       "657        TEST  distortion_new/20210905_165609.jpg  uncollected_waste   \n",
       "143        TEST  distortion_new/20210905_170343.jpg  uncollected_waste   \n",
       "..          ...                                 ...                ...   \n",
       "783       TRAIN  distortion_new/20210905_170733.jpg       fallen_Trees   \n",
       "784       TRAIN  distortion_new/20210905_170733.jpg       fallen_Trees   \n",
       "786       TRAIN  distortion_new/20210905_165551.jpg       fallen_Trees   \n",
       "787       TRAIN  distortion_new/20210905_165551.jpg       fallen_Trees   \n",
       "788       TRAIN  distortion_new/20210905_165551.jpg       fallen_Trees   \n",
       "\n",
       "           x1        y1   5   6        x2        y2   9  10  \n",
       "260  0.615722  0.071729 NaN NaN  0.444925  0.017638 NaN NaN  \n",
       "258  0.697706  0.142602 NaN NaN  0.492037  0.038944 NaN NaN  \n",
       "242  0.413043  0.310315 NaN NaN  0.431586  0.170077 NaN NaN  \n",
       "657  0.048167  0.078431 NaN NaN  0.445652  0.031969 NaN NaN  \n",
       "143  0.767690  0.170503 NaN NaN  0.519821  0.101023 NaN NaN  \n",
       "..        ...       ...  ..  ..       ...       ...  ..  ..  \n",
       "783  0.592072  0.129582 NaN NaN  0.315217  0.095908 NaN NaN  \n",
       "784  0.816496  0.367008 NaN NaN  0.421355  0.223785 NaN NaN  \n",
       "786  0.143436  0.286871 NaN NaN  0.402813  0.212276 NaN NaN  \n",
       "787  0.408781  0.537084 NaN NaN  0.512788  0.340153 NaN NaN  \n",
       "788  0.901748  0.196504 NaN NaN  0.512148  0.154731 NaN NaN  \n",
       "\n",
       "[791 rows x 11 columns]"
      ]
     },
     "execution_count": 15,
     "metadata": {},
     "output_type": "execute_result"
    }
   ],
   "source": [
    "df"
   ]
  },
  {
   "cell_type": "code",
   "execution_count": 16,
   "metadata": {},
   "outputs": [],
   "source": [
    "df.to_csv('cleared.csv', header=False, index=False)"
   ]
  },
  {
   "cell_type": "code",
   "execution_count": 17,
   "metadata": {},
   "outputs": [],
   "source": [
    "import numpy as np\n",
    "import os\n",
    "\n",
    "from tflite_model_maker.config import ExportFormat\n",
    "from tflite_model_maker import model_spec\n",
    "from tflite_model_maker import object_detector\n",
    "\n",
    "import tensorflow as tf"
   ]
  },
  {
   "cell_type": "code",
   "execution_count": 18,
   "metadata": {},
   "outputs": [],
   "source": [
    "tf.get_logger().setLevel('ERROR')\n",
    "from absl import logging\n",
    "logging.set_verbosity(logging.ERROR)"
   ]
  },
  {
   "cell_type": "code",
   "execution_count": 19,
   "metadata": {},
   "outputs": [],
   "source": [
    "spec = model_spec.get('efficientdet_lite0')\n"
   ]
  },
  {
   "cell_type": "code",
   "execution_count": 20,
   "metadata": {},
   "outputs": [],
   "source": [
    "train_data, validation_data, test_data = object_detector.DataLoader.from_csv('cleared.csv')\n"
   ]
  },
  {
   "cell_type": "code",
   "execution_count": 21,
   "metadata": {},
   "outputs": [
    {
     "name": "stdout",
     "output_type": "stream",
     "text": [
      "Epoch 1/50\n",
      "23/23 [==============================] - 118s 3s/step - det_loss: 25.3761 - cls_loss: 1.0196 - box_loss: 0.4871 - reg_l2_loss: 0.0631 - loss: 25.4393 - learning_rate: 0.0090 - gradient_norm: 8.7184 - val_det_loss: 37.0931 - val_cls_loss: 0.7360 - val_box_loss: 0.7271 - val_reg_l2_loss: 0.0634 - val_loss: 37.1565\n",
      "Epoch 2/50\n",
      "23/23 [==============================] - 64s 3s/step - det_loss: 15.0091 - cls_loss: 0.5177 - box_loss: 0.2898 - reg_l2_loss: 0.0636 - loss: 15.0727 - learning_rate: 0.0100 - gradient_norm: 10.0000 - val_det_loss: 17.9586 - val_cls_loss: 0.3141 - val_box_loss: 0.3529 - val_reg_l2_loss: 0.0637 - val_loss: 18.0223\n",
      "Epoch 3/50\n",
      "23/23 [==============================] - 61s 3s/step - det_loss: 14.8563 - cls_loss: 0.3130 - box_loss: 0.2909 - reg_l2_loss: 0.0637 - loss: 14.9201 - learning_rate: 0.0099 - gradient_norm: 10.0000 - val_det_loss: 20.4789 - val_cls_loss: 0.2248 - val_box_loss: 0.4051 - val_reg_l2_loss: 0.0638 - val_loss: 20.5426\n",
      "Epoch 4/50\n",
      "23/23 [==============================] - 60s 3s/step - det_loss: 14.6308 - cls_loss: 0.2944 - box_loss: 0.2867 - reg_l2_loss: 0.0638 - loss: 14.6946 - learning_rate: 0.0099 - gradient_norm: 10.0000 - val_det_loss: 23.7210 - val_cls_loss: 0.1945 - val_box_loss: 0.4705 - val_reg_l2_loss: 0.0639 - val_loss: 23.7849\n",
      "Epoch 5/50\n",
      "23/23 [==============================] - 57s 2s/step - det_loss: 16.0348 - cls_loss: 0.2488 - box_loss: 0.3157 - reg_l2_loss: 0.0639 - loss: 16.0987 - learning_rate: 0.0098 - gradient_norm: 10.0000 - val_det_loss: 18.8526 - val_cls_loss: 0.1749 - val_box_loss: 0.3736 - val_reg_l2_loss: 0.0639 - val_loss: 18.9165\n",
      "Epoch 6/50\n",
      "23/23 [==============================] - 59s 3s/step - det_loss: 14.7398 - cls_loss: 0.2569 - box_loss: 0.2897 - reg_l2_loss: 0.0639 - loss: 14.8036 - learning_rate: 0.0097 - gradient_norm: 10.0000 - val_det_loss: 16.9966 - val_cls_loss: 0.1668 - val_box_loss: 0.3366 - val_reg_l2_loss: 0.0639 - val_loss: 17.0605\n",
      "Epoch 7/50\n",
      "18/23 [======================>.......] - ETA: 7s - det_loss: 17.3334 - cls_loss: 0.2667 - box_loss: 0.3413 - reg_l2_loss: 0.0639 - loss: 17.3973 - learning_rate: 0.0096 - gradient_norm: 10.0000"
     ]
    }
   ],
   "source": [
    "model = object_detector.create(train_data, model_spec=spec, batch_size=8, train_whole_model=True, validation_data=validation_data)"
   ]
  },
  {
   "cell_type": "code",
   "execution_count": null,
   "metadata": {},
   "outputs": [],
   "source": []
  }
 ],
 "metadata": {
  "interpreter": {
   "hash": "ec7b780c4e0938ffe1c50508eb9cf31911ab3c6d4fec4c1220ca8869b23d3816"
  },
  "kernelspec": {
   "display_name": "Python 3.6.13 64-bit ('model-makker': conda)",
   "name": "python3"
  },
  "language_info": {
   "codemirror_mode": {
    "name": "ipython",
    "version": 3
   },
   "file_extension": ".py",
   "mimetype": "text/x-python",
   "name": "python",
   "nbconvert_exporter": "python",
   "pygments_lexer": "ipython3",
   "version": "3.6.13"
  },
  "orig_nbformat": 4
 },
 "nbformat": 4,
 "nbformat_minor": 2
}
