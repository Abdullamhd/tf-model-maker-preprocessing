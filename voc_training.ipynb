{
 "cells": [
  {
   "cell_type": "code",
   "execution_count": null,
   "metadata": {},
   "outputs": [],
   "source": [
    "import numpy as np\n",
    "import os\n",
    "import pathlib\n",
    "\n",
    "\n",
    "from tflite_model_maker.config import ExportFormat\n",
    "from tflite_model_maker import model_spec\n",
    "from tflite_model_maker import object_detector\n",
    "import shutil\n",
    "\n",
    "import tensorflow as tf\n",
    "\n",
    "\n",
    "labels_map = ['uncollected_waste','fallen_trees']\n",
    "\n",
    "\n",
    "def getfile_from_path(path):\n",
    "\n",
    "    file_names_with_ext = os.listdir(path)\n",
    "    base_names = []\n",
    "    file_names = []\n",
    "    for base in file_names_with_ext :\n",
    "        base_names.append(os.path.basename(base))\n",
    "    for name in base_names:\n",
    "        file_names.append(os.path.splitext(name)[0])\n",
    "    return file_names \n",
    "\n",
    "\n",
    "def get_different_filename(first_path,second_path):\n",
    "    list1 = getfile_from_path(first_path)\n",
    "    list2 = getfile_from_path(second_path)\n",
    "\n",
    "    return list(set(list1) - set(list2))\n",
    "\n",
    "\n",
    "\n",
    "def get_full_paths_of_files(dir_name):\n",
    "\n",
    "    names =os.listdir(dir_name)\n",
    "    full_paths = []\n",
    "\n",
    "    for name in names:\n",
    "\n",
    "        if '164949' in name :\n",
    "            print(name)\n",
    "\n",
    "        \n",
    "    \n",
    "\n",
    "\n",
    "        path = dir_name + '/' +  name \n",
    "        full_paths.append(path)\n",
    "\n",
    "    for path in full_paths :\n",
    "        if not os.path.exists(path):\n",
    "            raise Exception('Path not exists')\n",
    "\n",
    "    \n",
    "    return full_paths\n",
    "\n",
    "def split_list(l,first_percentage,second_percentage):\n",
    "     i1=int(len(l) *first_percentage)\n",
    "     i2=int(len(l) *second_percentage)\n",
    "\n",
    "     train=[]\n",
    "     test=[]\n",
    "     validation=[]\n",
    "\n",
    "     for i in range (0,i1,1):\n",
    "        train.append(l[i])\n",
    "\n",
    "     for i in range (i1,i2,1):\n",
    "        test.append(l[i])\n",
    "\n",
    "     for i in range (i2,len(l) ,1):\n",
    "        validation.append(l[i])\n",
    "\n",
    "\n",
    "\n",
    "\n",
    "     return (train, test, validation)\n"
   ]
  },
  {
   "cell_type": "code",
   "execution_count": null,
   "metadata": {},
   "outputs": [],
   "source": [
    "import os, random, shutil\n",
    "\n",
    "# For Images \n",
    "os.makedirs(\"distortion_detector/images/train\", exist_ok=True)\n",
    "os.makedirs(\"distortion_detector/images/test\", exist_ok=True)\n",
    "os.makedirs(\"distortion_detector/images/validation\", exist_ok=True)\n",
    "\n",
    "\n",
    "# For Annotations \n",
    "os.makedirs(\"distortion_detector/annotations/train\", exist_ok=True)\n",
    "os.makedirs(\"distortion_detector/annotations/test\", exist_ok=True)\n",
    "os.makedirs(\"distortion_detector/annotations/validation\", exist_ok=True)\n",
    "\n",
    "\n",
    "\n",
    "\n"
   ]
  },
  {
   "cell_type": "code",
   "execution_count": null,
   "metadata": {},
   "outputs": [],
   "source": [
    "image_paths = get_full_paths_of_files('images_voc')\n",
    "annotations_paths = get_full_paths_of_files('annotations')\n",
    "\n",
    "\n",
    "\n"
   ]
  },
  {
   "cell_type": "code",
   "execution_count": null,
   "metadata": {},
   "outputs": [],
   "source": []
  },
  {
   "cell_type": "code",
   "execution_count": null,
   "metadata": {},
   "outputs": [],
   "source": [
    "len(image_paths)"
   ]
  },
  {
   "cell_type": "code",
   "execution_count": null,
   "metadata": {},
   "outputs": [],
   "source": [
    "train,test,validation = split_list(image_paths,.8,1)\n"
   ]
  },
  {
   "cell_type": "code",
   "execution_count": null,
   "metadata": {},
   "outputs": [],
   "source": [
    "len(train)"
   ]
  },
  {
   "cell_type": "code",
   "execution_count": null,
   "metadata": {},
   "outputs": [],
   "source": [
    "len(validation)"
   ]
  },
  {
   "cell_type": "code",
   "execution_count": null,
   "metadata": {},
   "outputs": [],
   "source": [
    "len(test)"
   ]
  },
  {
   "cell_type": "code",
   "execution_count": null,
   "metadata": {},
   "outputs": [],
   "source": [
    "152+39"
   ]
  },
  {
   "cell_type": "code",
   "execution_count": null,
   "metadata": {},
   "outputs": [],
   "source": [
    "# copy train set\n",
    "for t in train:\n",
    "    shutil.copy(t,'distortion_detector/images/train')\n",
    "    # shutil.copy(f'annotations/{t.replace(\"jpg\",\"xml\")}','distortion_detector/annotations/train')\n",
    "    t = t.replace('jpg','xml')\n",
    "    t = t.replace('images_voc','annotations')\n",
    "    shutil.copy(t,'distortion_detector/annotations/train')\n",
    "    \n",
    "     \n",
    "\n"
   ]
  },
  {
   "cell_type": "code",
   "execution_count": null,
   "metadata": {},
   "outputs": [],
   "source": [
    "# copy test set\n",
    "for t in test:\n",
    "    shutil.copy(t,'distortion_detector/images/test')\n",
    "    # shutil.copy(f'annotations/{t.replace(\"jpg\",\"xml\")}','distortion_detector/annotations/train')\n",
    "    t = t.replace('jpg','xml')\n",
    "    t = t.replace('images_voc','annotations')\n",
    "    shutil.copy(t,'distortion_detector/annotations/test')\n",
    "    "
   ]
  },
  {
   "cell_type": "code",
   "execution_count": null,
   "metadata": {},
   "outputs": [],
   "source": [
    "# copy validation set\n",
    "for t in validation:\n",
    "\n",
    "    if '20210905_164949' in t :\n",
    "        print(t)\n",
    "\n",
    "    shutil.copy(t,'distortion_detector/images/validation')\n",
    "    # shutil.copy(f'annotations/{t.replace(\"jpg\",\"xml\")}','distortion_detector/annotations/train')\n",
    "    t = t.replace('jpg','xml')\n",
    "    t = t.replace('images_voc','annotations')\n",
    "    shutil.copy(t,'distortion_detector/annotations/validation')\n",
    "    "
   ]
  },
  {
   "cell_type": "code",
   "execution_count": null,
   "metadata": {},
   "outputs": [],
   "source": [
    "# copy train annotations  "
   ]
  },
  {
   "cell_type": "code",
   "execution_count": null,
   "metadata": {},
   "outputs": [],
   "source": [
    "spec = model_spec.get('efficientdet_lite0')"
   ]
  },
  {
   "cell_type": "code",
   "execution_count": null,
   "metadata": {},
   "outputs": [],
   "source": [
    "train_data = object_detector.DataLoader.from_pascal_voc(images_dir='distortion_detector/images/train',annotations_dir='distortion_detector/annotations/train',label_map=labels_map)"
   ]
  },
  {
   "cell_type": "code",
   "execution_count": null,
   "metadata": {},
   "outputs": [],
   "source": [
    "test_data = object_detector.DataLoader.from_pascal_voc(images_dir='distortion_detector/images/test',annotations_dir='distortion_detector/annotations/test',label_map=labels_map)"
   ]
  },
  {
   "cell_type": "code",
   "execution_count": null,
   "metadata": {},
   "outputs": [],
   "source": [
    "model = object_detector.create(train_data, model_spec=spec, batch_size=8, train_whole_model=True, validation_data=test_data)\n"
   ]
  },
  {
   "cell_type": "code",
   "execution_count": null,
   "metadata": {},
   "outputs": [],
   "source": [
    "# validation_data = object_detector.DataLoader.from_pascal_voc(images_dir='distortion_detector/images/validation',annotations_dir='distortion_detector/annotations/validation',label_map=labels_map)"
   ]
  }
 ],
 "metadata": {
  "interpreter": {
   "hash": "ec7b780c4e0938ffe1c50508eb9cf31911ab3c6d4fec4c1220ca8869b23d3816"
  },
  "kernelspec": {
   "display_name": "Python 3.6.13 64-bit ('model-makker': conda)",
   "name": "python3"
  },
  "language_info": {
   "codemirror_mode": {
    "name": "ipython",
    "version": 3
   },
   "file_extension": ".py",
   "mimetype": "text/x-python",
   "name": "python",
   "nbconvert_exporter": "python",
   "pygments_lexer": "ipython3",
   "version": "3.6.13"
  },
  "orig_nbformat": 4
 },
 "nbformat": 4,
 "nbformat_minor": 2
}
